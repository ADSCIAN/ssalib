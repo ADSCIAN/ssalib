{
 "cells": [
  {
   "metadata": {},
   "cell_type": "markdown",
   "source": [
    "# Tutorial 4: Comparison of SVD Solvers and Speed Performances\n",
    "\n",
    "[![Open In Colab](https://colab.research.google.com/assets/colab-badge.svg)](https://colab.research.google.com/github/ADSCIAN/ssalib/blob/main/notebooks/04_svd_solvers.ipynb)\n",
    "\n",
    "In this tutorial, you will learn:\n",
    "- How to switch SVD solvers to use in the decomposition.\n",
    "- How SVD solver can impact the computing speed performance of the decomposition.\n",
    "\n",
    "## Data\n",
    "\n",
    "* We use the `mortality` time series, which is a long time series, i.e., 11,688 data points, representing daily mortality in Belgium.\n"
   ],
   "id": "3bbed7bb68127152"
  },
  {
   "metadata": {},
   "cell_type": "code",
   "source": [
    "import time\n",
    "\n",
    "from ssalib import SingularSpectrumAnalysis\n",
    "from ssalib.datasets import load_mortality"
   ],
   "id": "8b6d81c6ee9b7c55",
   "outputs": [],
   "execution_count": null
  },
  {
   "metadata": {},
   "cell_type": "code",
   "source": [
    "mortality = load_mortality()\n",
    "print(mortality.describe())\n",
    "mortality.plot()"
   ],
   "id": "dc13d598441dda98",
   "outputs": [],
   "execution_count": null
  },
  {
   "metadata": {},
   "cell_type": "markdown",
   "source": [
    "## Effect of Time Series Length on Decomposition Speed\n",
    "\n",
    "- We measure how the length of a time series affects the computation speed of the decomposition.\n",
    "- A utility function, `measure_elapsed_time`, is used to average the performance over multiple runs."
   ],
   "id": "c1e0898495dda90b"
  },
  {
   "metadata": {},
   "cell_type": "code",
   "source": [
    "def measure_elapsed_time(func, *args, n_repeat=10):\n",
    "    \"\"\"Measure the average speed performance of a function\"\"\"\n",
    "    total_time = 0\n",
    "    for _ in range(n_repeat):\n",
    "        start_time = time.time()\n",
    "        func(*args)\n",
    "        total_time += time.time() - start_time\n",
    "    return total_time / n_repeat"
   ],
   "id": "2ccd1f9993c6d72a",
   "outputs": [],
   "execution_count": null
  },
  {
   "metadata": {},
   "cell_type": "code",
   "source": [
    "# Performance analysis\n",
    "def performance_analysis(svd_solver='numpy_standard', n_components=None):\n",
    "    for i in range(1,7):\n",
    "        ts = mortality.iloc[:i*365] # 1 to 5 years of data\n",
    "        myfunc = lambda x: SingularSpectrumAnalysis(x, svd_solver=svd_solver).decompose(n_components=n_components)\n",
    "        print(\n",
    "            f\"Time series length: {i*365} days, \"\n",
    "            f\"Averaged elapsed time: {measure_elapsed_time(myfunc, ts):.2f} seconds\"\n",
    "        )\n",
    "performance_analysis()"
   ],
   "id": "ed5e56062fa15105",
   "outputs": [],
   "execution_count": null
  },
  {
   "metadata": {},
   "cell_type": "markdown",
   "source": [
    "- As the length of the time series increases, the computational time increases significantly (~quadratic scaling).\n",
    "- For very large datasets, computational efficiency becomes crucial.\n",
    "- Besides the timeseries length, the `window` and the `svd_matrix_kind`parameters may also influence the decomposition speed.\n",
    "- Additional solver specific arguments may also have an impact.\n"
   ],
   "id": "139d449e0cc75152"
  },
  {
   "metadata": {},
   "cell_type": "markdown",
   "source": [
    "## Using Different Solvers\n",
    "\n",
    "- SSALib supports multiple SVD solvers:\n",
    "    - `numpy_standard`: [`numpy.linalg.svd`](https://numpy.org/doc/stable/reference/generated/numpy.linalg.svd.html)\n",
    "    - `scipy_standard`: [`scipy.linalg.svd`](https://docs.scipy.org/doc/scipy/reference/generated/scipy.linalg.svd.html)\n",
    "    - `scipy_sparse`: [`scipy.sparse.linalg.svds`](https://docs.scipy.org/doc/scipy/reference/generated/scipy.sparse.linalg.svds.html)\n",
    "    - `sklearn_randomized`: [`sklearn.utils.extmath.randomized_svd`](https://scikit-learn.org/stable/modules/generated/sklearn.utils.extmath.randomized_svd.html)\n",
    "\n",
    "- The solver can be selected with the `svd_solver` argument.\n",
    "- The available solver names are also available with the `available_solvers` property.\n",
    "- User can pass additional arguments, depending on what is authorized by the solver. You can click on the underlying method to access the documentation."
   ],
   "id": "6166940016738ad7"
  },
  {
   "metadata": {},
   "cell_type": "code",
   "source": "SingularSpectrumAnalysis.available_solvers",
   "id": "372ab2d876972902",
   "outputs": [],
   "execution_count": null
  },
  {
   "metadata": {},
   "cell_type": "markdown",
   "source": [
    "* The default solver is 'numpy_standard', which is mapping to the svd method implemented in the numpy linalg module.\n",
    "* The 'scipy_sparse' the 'sklearn_randomized' are truncated svd solver that may return slightly different results depending on the stability of the decomposition results; however, they are much faster (in particular, sklearn_randomized).\n",
    "* Their performance can also vary depending on solver-specific arguments (access the documentation from the links above), in particular, the number of components `n_components` to consider."
   ],
   "id": "141e0d6ff2218d4d"
  },
  {
   "metadata": {},
   "cell_type": "code",
   "source": [
    "for solver in SingularSpectrumAnalysis.available_solvers[1:]:\n",
    "    print(f\"{solver}\", end=\"\\n\")\n",
    "    if solver in ['scipy_sparse', 'sklearn_randomized']:\n",
    "        n_components = 50\n",
    "    else:\n",
    "        n_components = None\n",
    "    performance_analysis(solver, n_components=n_components)\n",
    "    print(end=\"\\n\")"
   ],
   "id": "45549526b7a21e64",
   "outputs": [],
   "execution_count": null
  },
  {
   "metadata": {},
   "cell_type": "markdown",
   "source": "* Considering the full time series with 11,688 data points, the 'sklearn_randomized' method below performs 60 faster than the default full svd using 'numpy_standard'.",
   "id": "9a1999cfe49d764e"
  },
  {
   "metadata": {},
   "cell_type": "code",
   "source": [
    "ssa_numpy = SingularSpectrumAnalysis(mortality, svd_solver='numpy_standard')\n",
    "ssa_sklearn = SingularSpectrumAnalysis(mortality, svd_solver='sklearn_randomized')\n",
    "\n",
    "# Full decomposition with numpy\n",
    "start_time_numpy = time.time()\n",
    "ssa_numpy.decompose()\n",
    "end_time_numpy = time.time()\n",
    "\n",
    "# Randomized decomposition with sklearn\n",
    "start_time_sklearn = time.time()\n",
    "ssa_sklearn.decompose(n_components=50)\n",
    "end_time_sklearn = time.time()\n",
    "\n",
    "print('numpy_standard:', f'{end_time_numpy - start_time_numpy:.2f} seconds')\n",
    "print('sklearn_randomized:', f'{end_time_sklearn - start_time_sklearn:.2f} seconds')"
   ],
   "id": "63ae682a979997eb",
   "outputs": [],
   "execution_count": null
  },
  {
   "metadata": {},
   "cell_type": "markdown",
   "source": "* As a result using 'sklearn_randomized', the decomposition is truncated to the defined number of components (i.e., 50 in this case).",
   "id": "c4574b49ed830249"
  },
  {
   "metadata": {},
   "cell_type": "code",
   "source": [
    "u, s, vt = ssa_sklearn.decomposition_results\n",
    "print(len(s))"
   ],
   "id": "7ac44f21d318808c",
   "outputs": [],
   "execution_count": null
  }
 ],
 "metadata": {
  "kernelspec": {
   "name": "python3",
   "language": "python",
   "display_name": "Python 3 (ipykernel)"
  }
 },
 "nbformat": 5,
 "nbformat_minor": 9
}
